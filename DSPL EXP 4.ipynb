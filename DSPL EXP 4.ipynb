{
 "cells": [
  {
   "cell_type": "code",
   "execution_count": 2,
   "id": "2f5064d1",
   "metadata": {},
   "outputs": [],
   "source": [
    "# Importing Libraries\n",
    "\n",
    "import pandas as pd\n",
    "from scipy.stats import shapiro, normaltest, anderson, pearsonr, spearmanr, kendalltau, chi2_contingency\n",
    "from statsmodels.tsa.stattools import adfuller, kpss\n",
    "from scipy.stats import ttest_ind, ttest_rel, f_oneway, mannwhitneyu, wilcoxon, kruskal, friedmanchisquare"
   ]
  },
  {
   "cell_type": "code",
   "execution_count": 13,
   "id": "a858040b",
   "metadata": {},
   "outputs": [],
   "source": [
    "# Load Titanic dataset\n",
    "\n",
    "titanic_df= pd.read_csv('C:/Users/squir/Downloads/tested.csv')"
   ]
  },
  {
   "cell_type": "code",
   "execution_count": 14,
   "id": "d52525f0",
   "metadata": {},
   "outputs": [
    {
     "data": {
      "text/html": [
       "<div>\n",
       "<style scoped>\n",
       "    .dataframe tbody tr th:only-of-type {\n",
       "        vertical-align: middle;\n",
       "    }\n",
       "\n",
       "    .dataframe tbody tr th {\n",
       "        vertical-align: top;\n",
       "    }\n",
       "\n",
       "    .dataframe thead th {\n",
       "        text-align: right;\n",
       "    }\n",
       "</style>\n",
       "<table border=\"1\" class=\"dataframe\">\n",
       "  <thead>\n",
       "    <tr style=\"text-align: right;\">\n",
       "      <th></th>\n",
       "      <th>PassengerId</th>\n",
       "      <th>Survived</th>\n",
       "      <th>Pclass</th>\n",
       "      <th>Name</th>\n",
       "      <th>Sex</th>\n",
       "      <th>Age</th>\n",
       "      <th>SibSp</th>\n",
       "      <th>Parch</th>\n",
       "      <th>Ticket</th>\n",
       "      <th>Fare</th>\n",
       "      <th>Cabin</th>\n",
       "      <th>Embarked</th>\n",
       "    </tr>\n",
       "  </thead>\n",
       "  <tbody>\n",
       "    <tr>\n",
       "      <th>0</th>\n",
       "      <td>892</td>\n",
       "      <td>0</td>\n",
       "      <td>3</td>\n",
       "      <td>Kelly, Mr. James</td>\n",
       "      <td>male</td>\n",
       "      <td>34.5</td>\n",
       "      <td>0</td>\n",
       "      <td>0</td>\n",
       "      <td>330911</td>\n",
       "      <td>7.8292</td>\n",
       "      <td>NaN</td>\n",
       "      <td>Q</td>\n",
       "    </tr>\n",
       "    <tr>\n",
       "      <th>1</th>\n",
       "      <td>893</td>\n",
       "      <td>1</td>\n",
       "      <td>3</td>\n",
       "      <td>Wilkes, Mrs. James (Ellen Needs)</td>\n",
       "      <td>female</td>\n",
       "      <td>47.0</td>\n",
       "      <td>1</td>\n",
       "      <td>0</td>\n",
       "      <td>363272</td>\n",
       "      <td>7.0000</td>\n",
       "      <td>NaN</td>\n",
       "      <td>S</td>\n",
       "    </tr>\n",
       "    <tr>\n",
       "      <th>2</th>\n",
       "      <td>894</td>\n",
       "      <td>0</td>\n",
       "      <td>2</td>\n",
       "      <td>Myles, Mr. Thomas Francis</td>\n",
       "      <td>male</td>\n",
       "      <td>62.0</td>\n",
       "      <td>0</td>\n",
       "      <td>0</td>\n",
       "      <td>240276</td>\n",
       "      <td>9.6875</td>\n",
       "      <td>NaN</td>\n",
       "      <td>Q</td>\n",
       "    </tr>\n",
       "    <tr>\n",
       "      <th>3</th>\n",
       "      <td>895</td>\n",
       "      <td>0</td>\n",
       "      <td>3</td>\n",
       "      <td>Wirz, Mr. Albert</td>\n",
       "      <td>male</td>\n",
       "      <td>27.0</td>\n",
       "      <td>0</td>\n",
       "      <td>0</td>\n",
       "      <td>315154</td>\n",
       "      <td>8.6625</td>\n",
       "      <td>NaN</td>\n",
       "      <td>S</td>\n",
       "    </tr>\n",
       "    <tr>\n",
       "      <th>4</th>\n",
       "      <td>896</td>\n",
       "      <td>1</td>\n",
       "      <td>3</td>\n",
       "      <td>Hirvonen, Mrs. Alexander (Helga E Lindqvist)</td>\n",
       "      <td>female</td>\n",
       "      <td>22.0</td>\n",
       "      <td>1</td>\n",
       "      <td>1</td>\n",
       "      <td>3101298</td>\n",
       "      <td>12.2875</td>\n",
       "      <td>NaN</td>\n",
       "      <td>S</td>\n",
       "    </tr>\n",
       "  </tbody>\n",
       "</table>\n",
       "</div>"
      ],
      "text/plain": [
       "   PassengerId  Survived  Pclass  \\\n",
       "0          892         0       3   \n",
       "1          893         1       3   \n",
       "2          894         0       2   \n",
       "3          895         0       3   \n",
       "4          896         1       3   \n",
       "\n",
       "                                           Name     Sex   Age  SibSp  Parch  \\\n",
       "0                              Kelly, Mr. James    male  34.5      0      0   \n",
       "1              Wilkes, Mrs. James (Ellen Needs)  female  47.0      1      0   \n",
       "2                     Myles, Mr. Thomas Francis    male  62.0      0      0   \n",
       "3                              Wirz, Mr. Albert    male  27.0      0      0   \n",
       "4  Hirvonen, Mrs. Alexander (Helga E Lindqvist)  female  22.0      1      1   \n",
       "\n",
       "    Ticket     Fare Cabin Embarked  \n",
       "0   330911   7.8292   NaN        Q  \n",
       "1   363272   7.0000   NaN        S  \n",
       "2   240276   9.6875   NaN        Q  \n",
       "3   315154   8.6625   NaN        S  \n",
       "4  3101298  12.2875   NaN        S  "
      ]
     },
     "execution_count": 14,
     "metadata": {},
     "output_type": "execute_result"
    }
   ],
   "source": [
    "titanic_df.head()\n"
   ]
  },
  {
   "cell_type": "code",
   "execution_count": 15,
   "id": "782d9d4e",
   "metadata": {},
   "outputs": [],
   "source": [
    "# Drop irrelevant columns\n",
    "titanic_df = titanic_df.drop(['Name', 'Ticket', 'Cabin', 'Embarked'], axis=1)"
   ]
  },
  {
   "cell_type": "code",
   "execution_count": 17,
   "id": "4d11be41",
   "metadata": {},
   "outputs": [],
   "source": [
    "# Handle missing values\n",
    "titanic_df['Age'].fillna(titanic_df['Age'].median(), inplace=True)\n",
    "titanic_df['Fare'].fillna(titanic_df['Fare'].median(), inplace=True)\n",
    "\n"
   ]
  },
  {
   "cell_type": "code",
   "execution_count": 18,
   "id": "0156844d",
   "metadata": {},
   "outputs": [],
   "source": [
    "# Convert categorical variables to numerical\n",
    "titanic_df['Sex'] = titanic_df['Sex'].map({'male': 0, 'female': 1})"
   ]
  },
  {
   "cell_type": "code",
   "execution_count": 19,
   "id": "3aad3297",
   "metadata": {},
   "outputs": [],
   "source": [
    "# Create a new variable 'Survived' to represent survival as 1 and not survival as 0\n",
    "titanic_df['Survived'] = titanic_df['Survived'].astype(int)"
   ]
  },
  {
   "cell_type": "code",
   "execution_count": 20,
   "id": "707f0eb7",
   "metadata": {},
   "outputs": [
    {
     "name": "stdout",
     "output_type": "stream",
     "text": [
      "Shapiro-Wilk Test: Statistics=0.9353150129318237, p-value=1.7022099875474428e-12\n",
      "D’Agostino’s K^2 Test: Statistics=34.81555255420222, p-value=2.7535871142178257e-08\n",
      "Anderson-Darling Test: Statistic=12.460808507225352, Critical Values=[0.571 0.65  0.78  0.909 1.082], Significance Level=[15.  10.   5.   2.5  1. ]\n"
     ]
    }
   ],
   "source": [
    "# Normality Tests\n",
    "# Shapiro-Wilk Test\n",
    "stat, p_value = shapiro(titanic_df['Age'])\n",
    "print(f\"Shapiro-Wilk Test: Statistics={stat}, p-value={p_value}\")\n",
    "\n",
    "# D’Agostino’s K^2 Test\n",
    "stat, p_value = normaltest(titanic_df['Age'])\n",
    "print(f\"D’Agostino’s K^2 Test: Statistics={stat}, p-value={p_value}\")\n",
    "\n",
    "# Anderson-Darling Test\n",
    "result = anderson(titanic_df['Age'])\n",
    "print(f\"Anderson-Darling Test: Statistic={result.statistic}, Critical Values={result.critical_values}, Significance Level={result.significance_level}\")"
   ]
  },
  {
   "cell_type": "code",
   "execution_count": 21,
   "id": "def69fc3",
   "metadata": {},
   "outputs": [
    {
     "name": "stdout",
     "output_type": "stream",
     "text": [
      "Pearson’s Correlation Coefficient: Correlation=0.34235685018571027, p-value=6.147154025484477e-13\n",
      "Spearman’s Rank Correlation: Correlation=0.27724790736124283, p-value=8.177127214177605e-09\n",
      "Kendall’s Rank Correlation: Correlation=0.18843374022157644, p-value=2.7225756670044467e-08\n",
      "Chi-Squared Test: Chi2 Statistic=413.6897405343716, p-value=5.767311139789629e-92, Degrees of Freedom=1\n"
     ]
    }
   ],
   "source": [
    "# Correlation Tests\n",
    "# Pearson’s Correlation Coefficient\n",
    "correlation, p_value = pearsonr(titanic_df['Age'], titanic_df['Fare'])\n",
    "print(f\"Pearson’s Correlation Coefficient: Correlation={correlation}, p-value={p_value}\")\n",
    "\n",
    "# Spearman’s Rank Correlation\n",
    "correlation, p_value = spearmanr(titanic_df['Age'], titanic_df['Fare'])\n",
    "print(f\"Spearman’s Rank Correlation: Correlation={correlation}, p-value={p_value}\")\n",
    "\n",
    "# Kendall’s Rank Correlation\n",
    "correlation, p_value = kendalltau(titanic_df['Age'], titanic_df['Fare'])\n",
    "print(f\"Kendall’s Rank Correlation: Correlation={correlation}, p-value={p_value}\")\n",
    "\n",
    "# Chi-Squared Test\n",
    "contingency_table = pd.crosstab(titanic_df['Survived'], titanic_df['Sex'])\n",
    "chi2_stat, p_value, dof, expected = chi2_contingency(contingency_table)\n",
    "print(f\"Chi-Squared Test: Chi2 Statistic={chi2_stat}, p-value={p_value}, Degrees of Freedom={dof}\")"
   ]
  },
  {
   "cell_type": "code",
   "execution_count": 22,
   "id": "38325f46",
   "metadata": {},
   "outputs": [
    {
     "name": "stdout",
     "output_type": "stream",
     "text": [
      "Augmented Dickey-Fuller Test: ADF Statistic=-20.554672335010277, p-value=0.0, Critical Values={'1%': -3.446129402876608, '5%': -2.8684960761128346, '10%': -2.570475362616382}\n",
      "Kwiatkowski-Phillips-Schmidt-Shin Test: KPSS Statistic=0.0682626545035462, p-value=0.1, Lags Used=6\n"
     ]
    },
    {
     "name": "stderr",
     "output_type": "stream",
     "text": [
      "C:\\Users\\squir\\AppData\\Local\\Temp\\ipykernel_7492\\1209203104.py:7: InterpolationWarning: The test statistic is outside of the range of p-values available in the\n",
      "look-up table. The actual p-value is greater than the p-value returned.\n",
      "\n",
      "  result = kpss(titanic_df['Fare'])\n"
     ]
    }
   ],
   "source": [
    "# Stationary Tests\n",
    "# Augmented Dickey-Fuller\n",
    "result = adfuller(titanic_df['Fare'])\n",
    "print(f\"Augmented Dickey-Fuller Test: ADF Statistic={result[0]}, p-value={result[1]}, Critical Values={result[4]}\")\n",
    "\n",
    "# Kwiatkowski-Phillips-Schmidt-Shin\n",
    "result = kpss(titanic_df['Fare'])\n",
    "print(f\"Kwiatkowski-Phillips-Schmidt-Shin Test: KPSS Statistic={result[0]}, p-value={result[1]}, Lags Used={result[2]}\")"
   ]
  },
  {
   "cell_type": "code",
   "execution_count": 23,
   "id": "5b1f41f0",
   "metadata": {},
   "outputs": [
    {
     "name": "stdout",
     "output_type": "stream",
     "text": [
      "Student’s t-test: t-statistic=-2.133594291454706, p-value=0.033167229221356787\n",
      "Paired Student’s t-test: t-statistic=-2.3116048159532463, p-value=0.021286109068868662\n",
      "Analysis of Variance Test (ANOVA): F-statistic=4.552224600528116, p-value=0.03316722922137293\n"
     ]
    }
   ],
   "source": [
    "# Parametric Statistical Hypothesis Tests\n",
    "# Student’s t-test\n",
    "stat, p_value = ttest_ind(titanic_df['Age'], titanic_df['Fare'])\n",
    "print(f\"Student’s t-test: t-statistic={stat}, p-value={p_value}\")\n",
    "\n",
    "# Paired Student’s t-test\n",
    "stat, p_value = ttest_rel(titanic_df['Age'], titanic_df['Fare'])\n",
    "print(f\"Paired Student’s t-test: t-statistic={stat}, p-value={p_value}\")\n",
    "\n",
    "# Analysis of Variance Test (ANOVA)\n",
    "result = f_oneway(titanic_df['Age'], titanic_df['Fare'])\n",
    "print(f\"Analysis of Variance Test (ANOVA): F-statistic={result.statistic}, p-value={result.pvalue}\")\n"
   ]
  },
  {
   "cell_type": "code",
   "execution_count": 25,
   "id": "faa5e213",
   "metadata": {},
   "outputs": [
    {
     "name": "stdout",
     "output_type": "stream",
     "text": [
      "Mann-Whitney U Test: U-statistic=116738.0, p-value=3.695066672640353e-17\n",
      "Wilcoxon Signed-Rank Test: W-statistic=33145.0, p-value=2.275273810723764e-05\n",
      "Kruskal-Wallis H Test: H-statistic=70.93572317835647, p-value=3.690546910949811e-17\n",
      "Friedman Test: Chi2-statistic=646.7070828331326, p-value=3.709721088881058e-141\n"
     ]
    }
   ],
   "source": [
    "# Nonparametric Statistical Hypothesis Tests\n",
    "# Mann-Whitney U Test\n",
    "stat, p_value = mannwhitneyu(titanic_df['Age'], titanic_df['Fare'])\n",
    "print(f\"Mann-Whitney U Test: U-statistic={stat}, p-value={p_value}\")\n",
    "\n",
    "# Wilcoxon Signed-Rank Test\n",
    "stat, p_value = wilcoxon(titanic_df['Age'], titanic_df['Fare'])\n",
    "print(f\"Wilcoxon Signed-Rank Test: W-statistic={stat}, p-value={p_value}\")\n",
    "\n",
    "# Kruskal-Wallis H Test\n",
    "stat, p_value = kruskal(titanic_df['Age'], titanic_df['Fare'])\n",
    "print(f\"Kruskal-Wallis H Test: H-statistic={stat}, p-value={p_value}\")\n",
    "\n",
    "# Friedman Test\n",
    "stat, p_value = friedmanchisquare(titanic_df['Age'], titanic_df['Fare'], titanic_df['Survived'])\n",
    "print(f\"Friedman Test: Chi2-statistic={stat}, p-value={p_value}\")\n"
   ]
  },
  {
   "cell_type": "code",
   "execution_count": null,
   "id": "fd8e60e1",
   "metadata": {},
   "outputs": [],
   "source": []
  }
 ],
 "metadata": {
  "kernelspec": {
   "display_name": "Python 3 (ipykernel)",
   "language": "python",
   "name": "python3"
  },
  "language_info": {
   "codemirror_mode": {
    "name": "ipython",
    "version": 3
   },
   "file_extension": ".py",
   "mimetype": "text/x-python",
   "name": "python",
   "nbconvert_exporter": "python",
   "pygments_lexer": "ipython3",
   "version": "3.11.5"
  }
 },
 "nbformat": 4,
 "nbformat_minor": 5
}
