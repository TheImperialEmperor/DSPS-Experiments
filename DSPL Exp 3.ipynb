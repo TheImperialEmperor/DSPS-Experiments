{
 "cells": [
  {
   "cell_type": "code",
   "execution_count": 2,
   "id": "083b0c3f",
   "metadata": {},
   "outputs": [],
   "source": [
    "#import library\n",
    "import pandas as pd\n",
    "import matplotlib.pyplot as plt\n",
    "from sklearn.model_selection import train_test_split"
   ]
  },
  {
   "cell_type": "code",
   "execution_count": 3,
   "id": "183c7875",
   "metadata": {},
   "outputs": [],
   "source": [
    "# Load the Titanic dataset\n",
    "titanic_data = pd.read_csv('C:/Users/squir/Downloads/tested.csv')"
   ]
  },
  {
   "cell_type": "code",
   "execution_count": 4,
   "id": "73c5ee3c",
   "metadata": {},
   "outputs": [
    {
     "name": "stdout",
     "output_type": "stream",
     "text": [
      "   PassengerId  Survived  Pclass  \\\n",
      "0          892         0       3   \n",
      "1          893         1       3   \n",
      "2          894         0       2   \n",
      "3          895         0       3   \n",
      "4          896         1       3   \n",
      "\n",
      "                                           Name     Sex   Age  SibSp  Parch  \\\n",
      "0                              Kelly, Mr. James    male  34.5      0      0   \n",
      "1              Wilkes, Mrs. James (Ellen Needs)  female  47.0      1      0   \n",
      "2                     Myles, Mr. Thomas Francis    male  62.0      0      0   \n",
      "3                              Wirz, Mr. Albert    male  27.0      0      0   \n",
      "4  Hirvonen, Mrs. Alexander (Helga E Lindqvist)  female  22.0      1      1   \n",
      "\n",
      "    Ticket     Fare Cabin Embarked  \n",
      "0   330911   7.8292   NaN        Q  \n",
      "1   363272   7.0000   NaN        S  \n",
      "2   240276   9.6875   NaN        Q  \n",
      "3   315154   8.6625   NaN        S  \n",
      "4  3101298  12.2875   NaN        S  \n"
     ]
    }
   ],
   "source": [
    "# Display the first few rows of the dataset to understand its structure\n",
    "print(titanic_data.head())"
   ]
  },
  {
   "cell_type": "code",
   "execution_count": 5,
   "id": "e9b2f0a4",
   "metadata": {},
   "outputs": [],
   "source": [
    "# Define features (X) and target variable (y)\n",
    "X = titanic_data.drop('Survived', axis=1)\n",
    "y = titanic_data['Survived']"
   ]
  },
  {
   "cell_type": "code",
   "execution_count": 6,
   "id": "e1703353",
   "metadata": {},
   "outputs": [],
   "source": [
    "# Split the data into training and test sets (75% training, 25% test)\n",
    "X_train, X_test, y_train, y_test = train_test_split(X, y, test_size=0.25, random_state=42)\n"
   ]
  },
  {
   "cell_type": "code",
   "execution_count": 7,
   "id": "5fd6b14c",
   "metadata": {},
   "outputs": [],
   "source": [
    "# Check the proportions and visualize using a bar graph\n",
    "proportions = [len(X_train) / len(titanic_data), len(X_test) / len(titanic_data)]\n",
    "labels = ['Training Set', 'Test Set']\n"
   ]
  },
  {
   "cell_type": "code",
   "execution_count": 8,
   "id": "71d890f0",
   "metadata": {},
   "outputs": [
    {
     "data": {
      "image/png": "[encoded data removed]",
      "text/plain": [
       "<Figure size 640x480 with 1 Axes>"
      ]
     },
     "metadata": {},
     "output_type": "display_data"
    }
   ],
   "source": [
    "# Plotting the bar graph\n",
    "plt.bar(labels, proportions, color=['blue', 'orange'])\n",
    "plt.xlabel('Dataset')\n",
    "plt.ylabel('Proportion')\n",
    "plt.title('Training and Test Data Proportions')\n",
    "plt.show()"
   ]
  },
  {
   "cell_type": "code",
   "execution_count": 9,
   "id": "e8b87133",
   "metadata": {},
   "outputs": [
    {
     "name": "stdout",
     "output_type": "stream",
     "text": [
      "Total number of records in the training data set: 313\n"
     ]
    }
   ],
   "source": [
    "# Display the total number of records in the training set\n",
    "num_records_training_set = X_train.shape[0]\n",
    "print(\"Total number of records in the training data set:\", num_records_training_set)"
   ]
  },
  {
   "cell_type": "code",
   "execution_count": 10,
   "id": "1753ae32",
   "metadata": {},
   "outputs": [],
   "source": [
    "#Importing Library\n",
    "from scipy import stats"
   ]
  },
  {
   "cell_type": "code",
   "execution_count": 11,
   "id": "34655b6f",
   "metadata": {},
   "outputs": [],
   "source": [
    "# Calculate the mean of the 'Survived' column for training and test sets\n",
    "mean_survived_train = y_train.mean()\n",
    "mean_survived_test = y_test.mean()\n"
   ]
  },
  {
   "cell_type": "code",
   "execution_count": 12,
   "id": "54391951",
   "metadata": {},
   "outputs": [],
   "source": [
    "# Perform a two-sample t-test\n",
    "t_stat, p_value = stats.ttest_ind(y_train, y_test)"
   ]
  },
  {
   "cell_type": "code",
   "execution_count": 13,
   "id": "62e421c5",
   "metadata": {},
   "outputs": [
    {
     "name": "stdout",
     "output_type": "stream",
     "text": [
      "Mean of 'Survived' in Training Set: 0.3706070287539936\n",
      "Mean of 'Survived' in Test Set: 0.34285714285714286\n",
      "\n",
      "T-test results:\n",
      "T-statistic: 0.5104439211062601\n",
      "P-value: 0.610011234153832\n"
     ]
    }
   ],
   "source": [
    "# Display the means and t-test results\n",
    "print(\"Mean of 'Survived' in Training Set:\", mean_survived_train)\n",
    "print(\"Mean of 'Survived' in Test Set:\", mean_survived_test)\n",
    "print(\"\\nT-test results:\")\n",
    "print(\"T-statistic:\", t_stat)\n",
    "print(\"P-value:\", p_value)\n"
   ]
  },
  {
   "cell_type": "code",
   "execution_count": 14,
   "id": "db17ebd6",
   "metadata": {},
   "outputs": [
    {
     "name": "stdout",
     "output_type": "stream",
     "text": [
      "Mean of 'Survived' in Training Set: 0\n",
      "Mean of 'Survived' in Test Set: 0\n",
      "\n",
      "T-test results:\n",
      "T-statistic: 0.5104439211062601\n",
      "P-value: 0.610011234153832\n"
     ]
    }
   ],
   "source": [
    "# Calculate the mean of the 'Survived' column for training and test sets\n",
    "mean_survived_train = round(y_train.mean())\n",
    "mean_survived_test = round(y_test.mean())\n",
    "\n",
    "# Perform a two-sample t-test\n",
    "t_stat, p_value = stats.ttest_ind(y_train, y_test)\n",
    "\n",
    "# Display the means and t-test results as integers\n",
    "print(\"Mean of 'Survived' in Training Set:\", int(mean_survived_train))\n",
    "print(\"Mean of 'Survived' in Test Set:\", int(mean_survived_test))\n",
    "print(\"\\nT-test results:\")\n",
    "print(\"T-statistic:\", t_stat)\n",
    "print(\"P-value:\", p_value)"
   ]
  },
  {
   "cell_type": "code",
   "execution_count": 15,
   "id": "65b21e9f",
   "metadata": {},
   "outputs": [
    {
     "name": "stdout",
     "output_type": "stream",
     "text": [
      "PassengerId\n",
      "Survived\n",
      "Pclass\n",
      "Name\n",
      "Sex\n",
      "Age\n",
      "SibSp\n",
      "Parch\n",
      "Ticket\n",
      "Fare\n",
      "Cabin\n",
      "Embarked\n"
     ]
    }
   ],
   "source": [
    "for col in titanic_data.columns:\n",
    "    print(col)"
   ]
  },
  {
   "cell_type": "code",
   "execution_count": null,
   "id": "0ece076d",
   "metadata": {},
   "outputs": [],
   "source": []
  }
 ],
 "metadata": {
  "kernelspec": {
   "display_name": "Python 3 (ipykernel)",
   "language": "python",
   "name": "python3"
  },
  "language_info": {
   "codemirror_mode": {
    "name": "ipython",
    "version": 3
   },
   "file_extension": ".py",
   "mimetype": "text/x-python",
   "name": "python",
   "nbconvert_exporter": "python",
   "pygments_lexer": "ipython3",
   "version": "3.11.5"
  }
 },
 "nbformat": 4,
 "nbformat_minor": 5
}
